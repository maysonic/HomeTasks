{
 "cells": [
  {
   "cell_type": "code",
   "execution_count": 62,
   "metadata": {},
   "outputs": [],
   "source": [
    "import numpy as np"
   ]
  },
  {
   "cell_type": "code",
   "execution_count": 87,
   "metadata": {},
   "outputs": [],
   "source": [
    "A = np.array([[3,7],[5,2]])\n",
    "B = np.array([[0,1,3],[2,3,1],[0,1,0]])\n",
    "C = np.array([[5,7,6,4,2],[1,3,4,1,3],[3,4,5,4,1]])\n",
    "U_A,S_A,Vh_A = np.linalg.svd(A, full_matrices=True)\n",
    "U_B,S_B,Vh_B = np.linalg.svd(B, full_matrices=True)\n",
    "U_C,S_C,Vh_C = np.linalg.svd(C, full_matrices=True)"
   ]
  },
  {
   "cell_type": "code",
   "execution_count": 88,
   "metadata": {},
   "outputs": [
    {
     "name": "stdout",
     "output_type": "stream",
     "text": [
      "U_A =  [[-0.85065081 -0.52573111]\n",
      " [-0.52573111  0.85065081]] \n",
      "\n",
      "S_A =  [8.71337969 3.32821489] \n",
      "\n",
      "Vh_A =  [[-0.59455781 -0.80405286]\n",
      " [ 0.80405286 -0.59455781]]\n"
     ]
    }
   ],
   "source": [
    "print('U_A = ',U_A,'\\n\\nS_A = ',S_A,'\\n\\nVh_A = ',Vh_A)"
   ]
  },
  {
   "cell_type": "code",
   "execution_count": 89,
   "metadata": {},
   "outputs": [
    {
     "name": "stdout",
     "output_type": "stream",
     "text": [
      "U_B =  [[-0.56667985  0.82277903  0.04368772]\n",
      " [-0.80674247 -0.54329657 -0.23236915]\n",
      " [-0.16745308 -0.16692366  0.97164601]] \n",
      "\n",
      "S_B =  [4.34019342 2.41561763 0.57228713] \n",
      "\n",
      "Vh_B =  [[-0.37175416 -0.72677875 -0.5775738 ]\n",
      " [-0.44982001 -0.40322372  0.79691442]\n",
      " [-0.81207192  0.5560605  -0.17701953]]\n"
     ]
    }
   ],
   "source": [
    "print('U_B = ',U_B,'\\n\\nS_B = ',S_B,'\\n\\nVh_B = ',Vh_B)"
   ]
  },
  {
   "cell_type": "code",
   "execution_count": 90,
   "metadata": {},
   "outputs": [
    {
     "name": "stdout",
     "output_type": "stream",
     "text": [
      "U_C =  [[-0.75927897  0.23445293 -0.60706446]\n",
      " [-0.3639706  -0.92629427  0.09749016]\n",
      " [-0.53946348  0.29497584  0.78864974]] \n",
      "\n",
      "S_C =  [14.94713352  2.72739944  1.46440832] \n",
      "\n",
      "Vh_C =  [[-0.38661298 -0.57300074 -0.58264507 -0.37190679 -0.21073828]\n",
      " [ 0.41464331  0.01546935 -0.3019654   0.43683401 -0.73879941]\n",
      " [-0.39052151 -0.5479222   0.47174175  0.56256936 -0.09082761]\n",
      " [-0.43720626  0.36725326 -0.53062765  0.5481159   0.30328039]\n",
      " [ 0.5787443  -0.48614521 -0.2554127   0.23226293  0.55635974]]\n"
     ]
    }
   ],
   "source": [
    "print('U_C = ',U_C,'\\n\\nS_C = ',S_C,'\\n\\nVh_C = ',Vh_C)"
   ]
  }
 ],
 "metadata": {
  "kernelspec": {
   "display_name": "Python 3",
   "language": "python",
   "name": "python3"
  },
  "language_info": {
   "codemirror_mode": {
    "name": "ipython",
    "version": 3
   },
   "file_extension": ".py",
   "mimetype": "text/x-python",
   "name": "python",
   "nbconvert_exporter": "python",
   "pygments_lexer": "ipython3",
   "version": "3.6.4"
  }
 },
 "nbformat": 4,
 "nbformat_minor": 2
}
