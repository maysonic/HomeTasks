{
 "cells": [
  {
   "cell_type": "code",
   "execution_count": 2,
   "metadata": {},
   "outputs": [],
   "source": [
    "import numpy as np"
   ]
  },
  {
   "cell_type": "code",
   "execution_count": 3,
   "metadata": {},
   "outputs": [],
   "source": [
    "A = np.array([[3,7],[5,2]])\n",
    "B = np.array([[0,1,3],[2,3,1],[0,1,0]])\n",
    "C = np.array([[5,7,6],[4,2,1],[3,4,1],[3,3,4],[5,4,1]])\n",
    "U_A,S_A,Vh_A = np.linalg.svd(A, full_matrices=True)\n",
    "U_B,S_B,Vh_B = np.linalg.svd(B, full_matrices=True)\n",
    "U_C,S_C,Vh_C = np.linalg.svd(C, full_matrices=True)"
   ]
  },
  {
   "cell_type": "code",
   "execution_count": 4,
   "metadata": {},
   "outputs": [
    {
     "name": "stdout",
     "output_type": "stream",
     "text": [
      "U_A =  [[-0.85065081 -0.52573111]\n",
      " [-0.52573111  0.85065081]] \n",
      "\n",
      "S_A =  [8.71337969 3.32821489] \n",
      "\n",
      "Vh_A =  [[-0.59455781 -0.80405286]\n",
      " [ 0.80405286 -0.59455781]]\n"
     ]
    }
   ],
   "source": [
    "print('U_A = ',U_A,'\\n\\nS_A = ',S_A,'\\n\\nVh_A = ',Vh_A)"
   ]
  },
  {
   "cell_type": "code",
   "execution_count": 5,
   "metadata": {},
   "outputs": [
    {
     "name": "stdout",
     "output_type": "stream",
     "text": [
      "U_B =  [[-0.56667985  0.82277903  0.04368772]\n",
      " [-0.80674247 -0.54329657 -0.23236915]\n",
      " [-0.16745308 -0.16692366  0.97164601]] \n",
      "\n",
      "S_B =  [4.34019342 2.41561763 0.57228713] \n",
      "\n",
      "Vh_B =  [[-0.37175416 -0.72677875 -0.5775738 ]\n",
      " [-0.44982001 -0.40322372  0.79691442]\n",
      " [-0.81207192  0.5560605  -0.17701953]]\n"
     ]
    }
   ],
   "source": [
    "print('U_B = ',U_B,'\\n\\nS_B = ',S_B,'\\n\\nVh_B = ',Vh_B)"
   ]
  },
  {
   "cell_type": "code",
   "execution_count": 6,
   "metadata": {},
   "outputs": [
    {
     "name": "stdout",
     "output_type": "stream",
     "text": [
      "U_C =  [[-0.7027403  -0.46685359 -0.21410908 -0.49155031 -0.02719193]\n",
      " [-0.28359468  0.43753177  0.58006323 -0.23058944 -0.58180339]\n",
      " [-0.33147393  0.28537754 -0.61435714  0.49436281 -0.43226775]\n",
      " [-0.38088944 -0.37286696  0.49010103  0.67827186  0.12506689]\n",
      " [-0.41325343  0.60839426  0.00708838 -0.02755894  0.67695516]] \n",
      "\n",
      "S_C =  [14.71294705  3.686851    1.71356906] \n",
      "\n",
      "Vh_C =  [[-0.60160874 -0.65302683 -0.46002487]\n",
      " [ 0.59545726  0.01724365 -0.80320191]\n",
      " [ 0.53244491 -0.75713844  0.37847564]]\n"
     ]
    }
   ],
   "source": [
    "print('U_C = ',U_C,'\\n\\nS_C = ',S_C,'\\n\\nVh_C = ',Vh_C)"
   ]
  }
 ],
 "metadata": {
  "kernelspec": {
   "display_name": "Python 3",
   "language": "python",
   "name": "python3"
  },
  "language_info": {
   "codemirror_mode": {
    "name": "ipython",
    "version": 3
   },
   "file_extension": ".py",
   "mimetype": "text/x-python",
   "name": "python",
   "nbconvert_exporter": "python",
   "pygments_lexer": "ipython3",
   "version": "3.6.4"
  }
 },
 "nbformat": 4,
 "nbformat_minor": 2
}
